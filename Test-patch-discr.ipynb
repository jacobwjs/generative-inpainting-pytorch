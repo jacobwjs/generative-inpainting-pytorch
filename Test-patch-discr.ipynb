{
 "cells": [
  {
   "cell_type": "code",
   "execution_count": null,
   "id": "wireless-extra",
   "metadata": {},
   "outputs": [],
   "source": [
    "import torch\n",
    "\n",
    "from utils.tools import get_config, random_bbox, mask_image\n",
    "# from utils.tools import tensor_img_to_npimg as tensor_to_img\n",
    "from utils.tools import tensor_to_img\n",
    "from utils.tools import local_patch, spatial_discounting_mask\n",
    "from data.dataset import Dataset\n",
    "\n",
    "import numpy as np\n",
    "import cv2\n",
    "import matplotlib.pyplot as plt\n",
    "\n"
   ]
  },
  {
   "cell_type": "code",
   "execution_count": null,
   "id": "eleven-superior",
   "metadata": {},
   "outputs": [],
   "source": [
    "def random_ff_mask(config, batch_size, to_tensor=True):\n",
    "    \"\"\"Generate a random free form mask with configuration.\n",
    "\n",
    "    Args:\n",
    "        config: Config should have configuration including IMG_SHAPES,\n",
    "            VERTICAL_MARGIN, HEIGHT, HORIZONTAL_MARGIN, WIDTH.\n",
    "\n",
    "    Returns:\n",
    "        tuple: (top, left, height, width)\n",
    "    \"\"\"\n",
    "\n",
    "    h,w = config['shape']\n",
    "#     mask = np.zeros((h,w))\n",
    "    num_v = 12+np.random.randint(config['mv'])#tf.random_uniform([], minval=0, maxval=config.MAXVERTEX, dtype=tf.int32)\n",
    "\n",
    "    masks = []\n",
    "    for i in range(batch_size):\n",
    "        mask = np.zeros((h,w))\n",
    "        for i in range(num_v):\n",
    "            start_x = np.random.randint(w)\n",
    "            start_y = np.random.randint(h)\n",
    "            for j in range(1+np.random.randint(5)):\n",
    "                angle = 0.01+np.random.randint(config['ma'])\n",
    "                if i % 2 == 0:\n",
    "                    angle = 2 * 3.1415926 - angle\n",
    "                length = 10+np.random.randint(config['ml'])\n",
    "                brush_w = 10+np.random.randint(config['mbw'])\n",
    "                end_x = (start_x + length * np.sin(angle)).astype(np.int32)\n",
    "                end_y = (start_y + length * np.cos(angle)).astype(np.int32)\n",
    "\n",
    "                cv2.line(mask, (start_y, start_x), (end_y, end_x), 1.0, brush_w)\n",
    "                start_x, start_y = end_x, end_y\n",
    "\n",
    "        mask = mask.reshape(mask.shape+(1,)).astype(np.float32).copy()\n",
    "\n",
    "        if to_tensor:\n",
    "            mask = torch.from_numpy(mask)\n",
    "            \n",
    "        masks.append(mask)\n",
    "        \n",
    "        \n",
    "    if to_tensor:\n",
    "#         mask = torch.from_numpy(mask)\n",
    "        masks = torch.cat(masks, dim=-1).permute(2,0,1).unsqueeze(1) # [HWN] -> [NCHW]\n",
    "        \n",
    "    return masks\n",
    "    "
   ]
  },
  {
   "cell_type": "code",
   "execution_count": null,
   "id": "velvet-fruit",
   "metadata": {},
   "outputs": [],
   "source": []
  },
  {
   "cell_type": "code",
   "execution_count": null,
   "id": "thirty-catalyst",
   "metadata": {},
   "outputs": [],
   "source": []
  },
  {
   "cell_type": "code",
   "execution_count": null,
   "id": "foreign-compensation",
   "metadata": {},
   "outputs": [],
   "source": []
  },
  {
   "cell_type": "code",
   "execution_count": null,
   "id": "medical-variation",
   "metadata": {},
   "outputs": [],
   "source": []
  },
  {
   "cell_type": "code",
   "execution_count": null,
   "id": "requested-mitchell",
   "metadata": {},
   "outputs": [],
   "source": [
    "config = get_config('configs/config-gated-spectnorm.yaml')"
   ]
  },
  {
   "cell_type": "code",
   "execution_count": null,
   "id": "growing-citation",
   "metadata": {},
   "outputs": [],
   "source": [
    "mask_ff = random_ff_mask(config['random_ff_settings'])\n",
    "print(mask_ff.shape)"
   ]
  },
  {
   "cell_type": "code",
   "execution_count": null,
   "id": "educational-scotland",
   "metadata": {},
   "outputs": [],
   "source": [
    "plt.imshow(mask_ff)"
   ]
  },
  {
   "cell_type": "markdown",
   "id": "white-honor",
   "metadata": {},
   "source": [
    "## Look at 'local_patch' output and mimic behaviour for free form mask"
   ]
  },
  {
   "cell_type": "code",
   "execution_count": null,
   "id": "competent-tumor",
   "metadata": {},
   "outputs": [],
   "source": [
    "# Data\n",
    "#\n",
    "sampler = None\n",
    "train_dataset = Dataset(\n",
    "    data_path=config['train_data_path'],\n",
    "    with_subfolder=config['data_with_subfolder'],\n",
    "    image_shape=config['image_shape'],\n",
    "    random_crop=config['random_crop']\n",
    ")\n",
    "\n",
    "\n",
    "# sampler = torch.utils.data.distributed.DistributedSampler(\n",
    "#     train_dataset,\n",
    "# #             num_replicas=torch.cuda.device_count(),\n",
    "#     num_replicas=len(config['gpu_ids']),\n",
    "# #         rank = local_rank\n",
    "# )\n",
    "\n",
    "\n",
    "train_loader = torch.utils.data.DataLoader(\n",
    "    dataset=train_dataset,\n",
    "    batch_size=config['batch_size'],\n",
    "    shuffle=(sampler is None),\n",
    "    num_workers=config['num_workers'],\n",
    "    pin_memory=True,\n",
    "    sampler=sampler,\n",
    "    drop_last=True\n",
    ")"
   ]
  },
  {
   "cell_type": "code",
   "execution_count": null,
   "id": "consolidated-macintosh",
   "metadata": {},
   "outputs": [],
   "source": [
    "import tqdm.auto as tqdm\n",
    "\n",
    "iterable_train_loader = iter(train_loader)\n",
    "\n",
    "epochs = config['niter'] + 1\n",
    "# pbar = tqdm(range(0, epochs), dynamic_ncols=True, smoothing=0.01)\n",
    "# for iteration in pbar:\n",
    "for iteration in range(0, epochs):\n",
    "#     sampler.set_epoch(iteration)\n",
    "\n",
    "    try:\n",
    "        ground_truth = next(iterable_train_loader)\n",
    "    except StopIteration:\n",
    "        iterable_train_loader = iter(train_loader)\n",
    "        ground_truth = next(iterable_train_loader)\n",
    "\n",
    "#     # Prepare the inputs\n",
    "#     bboxes = random_bbox(config, batch_size=ground_truth.size(0))\n",
    "#     x, mask = mask_image(ground_truth, bboxes, config)\n",
    "\n",
    "\n",
    "#     # Move to proper device.\n",
    "#     #\n",
    "#     bboxes = bboxes.cuda(local_rank)\n",
    "#     x = x.cuda(local_rank)\n",
    "#     mask = mask.cuda(local_rank)\n",
    "#     ground_truth = ground_truth.cuda(local_rank)\n",
    "    break"
   ]
  },
  {
   "cell_type": "code",
   "execution_count": null,
   "id": "atmospheric-preservation",
   "metadata": {},
   "outputs": [],
   "source": [
    "print(ground_truth.size())\n",
    "# img = ground_truth[0].squeeze().permute(1,2,0)\n",
    "img = tensor_to_img(ground_truth[0])\n",
    "plt.imshow(img)\n"
   ]
  },
  {
   "cell_type": "code",
   "execution_count": null,
   "id": "experienced-nowhere",
   "metadata": {},
   "outputs": [],
   "source": [
    "# Prepare the inputs\n",
    "bboxes = random_bbox(config, batch_size=ground_truth.size(0))\n",
    "x, mask = mask_image(ground_truth, bboxes, config)\n",
    "print(x.shape)\n",
    "print(mask.shape)\n",
    "\n",
    "# # Move to proper device.\n",
    "# #\n",
    "# bboxes = bboxes.cuda(local_rank)\n",
    "# x = x.cuda(local_rank)\n",
    "# mask = mask.cuda(local_rank)\n",
    "# ground_truth = ground_truth.cuda(local_rank)"
   ]
  },
  {
   "cell_type": "code",
   "execution_count": null,
   "id": "cooked-archives",
   "metadata": {},
   "outputs": [],
   "source": [
    "plt.imshow(tensor_to_img(x[0])/255); plt.show()\n",
    "plt.imshow(mask[0].squeeze())"
   ]
  },
  {
   "cell_type": "code",
   "execution_count": null,
   "id": "unique-calculator",
   "metadata": {},
   "outputs": [],
   "source": [
    "local_patch_gt = local_patch(ground_truth, bboxes)\n",
    "print(local_patch_gt.shape)"
   ]
  },
  {
   "cell_type": "code",
   "execution_count": null,
   "id": "joint-secondary",
   "metadata": {},
   "outputs": [],
   "source": [
    "plt.imshow(tensor_to_img(local_patch_gt[0])/255.)"
   ]
  },
  {
   "cell_type": "code",
   "execution_count": null,
   "id": "incident-madonna",
   "metadata": {},
   "outputs": [],
   "source": []
  },
  {
   "cell_type": "code",
   "execution_count": null,
   "id": "straight-compatibility",
   "metadata": {},
   "outputs": [],
   "source": []
  },
  {
   "cell_type": "code",
   "execution_count": null,
   "id": "oriental-sunrise",
   "metadata": {},
   "outputs": [],
   "source": [
    "from model.networks import Generator, LocalDis, GlobalDis"
   ]
  },
  {
   "cell_type": "code",
   "execution_count": null,
   "id": "interested-military",
   "metadata": {},
   "outputs": [],
   "source": [
    "netG = Generator(config['netG'], use_cuda=True, device=0).cuda()\n",
    "localD = LocalDis(config['netD'], use_cuda=True, device_id=0).cuda()\n",
    "globalD = GlobalDis(config['netD'], use_cuda=True, device_id=0).cuda()"
   ]
  },
  {
   "cell_type": "code",
   "execution_count": null,
   "id": "alternative-adjustment",
   "metadata": {},
   "outputs": [],
   "source": [
    "local_rank = 0\n",
    "# Move to proper device.\n",
    "#\n",
    "# bboxes = bboxes.cuda(local_rank)\n",
    "# mask = mask.cuda(local_rank)\n",
    "x = x.cuda(local_rank)\n",
    "mask_ff = random_ff_mask(config['random_ff_settings'], batch_size=x.shape[0], to_tensor=True).cuda(local_rank)\n",
    "ground_truth = ground_truth.cuda(local_rank)\n",
    "\n",
    "print(x.shape)\n",
    "print(mask_ff.shape)\n",
    "print(ground_truth.shape)"
   ]
  },
  {
   "cell_type": "code",
   "execution_count": null,
   "id": "automated-designation",
   "metadata": {},
   "outputs": [],
   "source": [
    "x1, x2, offset_flow = netG(x, mask_ff)"
   ]
  },
  {
   "cell_type": "code",
   "execution_count": null,
   "id": "humanitarian-private",
   "metadata": {},
   "outputs": [],
   "source": [
    "# local_patch_gt = local_patch(ground_truth, bboxes)\n",
    "# x1_inpaint = x1 * masks + x * (1. - masks)\n",
    "# x2_inpaint = x2 * masks + x * (1. - masks)\n",
    "# local_patch_x1_inpaint = local_patch(x1_inpaint, bboxes)\n",
    "# local_patch_x2_inpaint = local_patch(x2_inpaint, bboxes)\n",
    "\n",
    "# local_patch_gt = local_patch(ground_truth, bboxes)\n",
    "x1_inpaint = x1 * mask_ff + x * (1. - mask_ff)\n",
    "x2_inpaint = x2 * mask_ff + x * (1. - mask_ff)\n",
    "# local_patch_x1_inpaint = local_patch(x1_inpaint, bboxes)\n",
    "# local_patch_x2_inpaint = local_patch(x2_inpaint, bboxes)"
   ]
  },
  {
   "cell_type": "code",
   "execution_count": null,
   "id": "arabic-probability",
   "metadata": {},
   "outputs": [],
   "source": []
  }
 ],
 "metadata": {
  "environment": {
   "name": "common-cu110.m65",
   "type": "gcloud",
   "uri": "gcr.io/deeplearning-platform-release/base-cu110:m65"
  },
  "kernelspec": {
   "display_name": "Python [conda env:my_pytorch17_py36]",
   "language": "python",
   "name": "conda-env-my_pytorch17_py36-py"
  },
  "language_info": {
   "codemirror_mode": {
    "name": "ipython",
    "version": 3
   },
   "file_extension": ".py",
   "mimetype": "text/x-python",
   "name": "python",
   "nbconvert_exporter": "python",
   "pygments_lexer": "ipython3",
   "version": "3.6.13"
  }
 },
 "nbformat": 4,
 "nbformat_minor": 5
}
